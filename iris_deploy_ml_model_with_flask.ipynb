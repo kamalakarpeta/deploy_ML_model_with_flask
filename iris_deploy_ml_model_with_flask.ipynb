{
 "cells": [
  {
   "cell_type": "markdown",
   "id": "bd019c9d",
   "metadata": {},
   "source": [
    "Let me provide a simplified version of a Flask application for deploying a machine learning model. This example will use the Iris dataset from scikit-learn. The model will predict the species of Iris based on four features: sepal length, sepal width, petal length, and petal width.\n",
    "\n",
    "First, we need to train a model. Here is a simple script in Jupyter to do so:"
   ]
  },
  {
   "cell_type": "code",
   "execution_count": 1,
   "id": "0d5d9b23",
   "metadata": {},
   "outputs": [
    {
     "data": {
      "text/plain": [
       "['model.pkl']"
      ]
     },
     "execution_count": 1,
     "metadata": {},
     "output_type": "execute_result"
    }
   ],
   "source": [
    "from sklearn import datasets\n",
    "from sklearn.ensemble import RandomForestClassifier\n",
    "import joblib\n",
    "\n",
    "# Load iris dataset\n",
    "iris = datasets.load_iris()\n",
    "\n",
    "# Create a model\n",
    "model = RandomForestClassifier()\n",
    "model.fit(iris.data, iris.target)\n",
    "\n",
    "# Save the model\n",
    "joblib.dump(model, 'model.pkl')"
   ]
  },
  {
   "cell_type": "markdown",
   "id": "456ead73",
   "metadata": {},
   "source": [
    "Now that we have our model saved, we create a new Flask application."
   ]
  },
  {
   "cell_type": "code",
   "execution_count": 3,
   "id": "ec3bdbd2",
   "metadata": {},
   "outputs": [
    {
     "name": "stdout",
     "output_type": "stream",
     "text": [
      " * Serving Flask app \"__main__\" (lazy loading)\n",
      " * Environment: production\n",
      "\u001b[31m   WARNING: This is a development server. Do not use it in a production deployment.\u001b[0m\n",
      "\u001b[2m   Use a production WSGI server instead.\u001b[0m\n",
      " * Debug mode: on\n"
     ]
    },
    {
     "name": "stderr",
     "output_type": "stream",
     "text": [
      " * Restarting with watchdog (windowsapi)\n"
     ]
    },
    {
     "ename": "SystemExit",
     "evalue": "1",
     "output_type": "error",
     "traceback": [
      "An exception has occurred, use %tb to see the full traceback.\n",
      "\u001b[1;31mSystemExit\u001b[0m\u001b[1;31m:\u001b[0m 1\n"
     ]
    },
    {
     "name": "stderr",
     "output_type": "stream",
     "text": [
      "C:\\Users\\kamalap1\\Anaconda3\\lib\\site-packages\\IPython\\core\\interactiveshell.py:3465: UserWarning: To exit: use 'exit', 'quit', or Ctrl-D.\n",
      "  warn(\"To exit: use 'exit', 'quit', or Ctrl-D.\", stacklevel=1)\n"
     ]
    }
   ],
   "source": [
    "from flask import Flask, request, jsonify\n",
    "from sklearn import datasets\n",
    "import joblib\n",
    "\n",
    "app = Flask(__name__)\n",
    "\n",
    "# Load the model\n",
    "model = joblib.load('model.pkl')\n",
    "\n",
    "@app.route('/predict', methods=['POST'])\n",
    "def predict():\n",
    "    # Get data from Post request\n",
    "    data = request.get_json()\n",
    "    \n",
    "    # Make prediction\n",
    "    prediction = model.predict([data['features']])\n",
    "    \n",
    "    # Translate numeric prediction into actual iris species\n",
    "    iris_species = {0: 'setosa', 1: 'versicolor', 2: 'virginica'}\n",
    "    prediction_label = iris_species[prediction[0]]\n",
    "    \n",
    "    # Create and send response\n",
    "    response = {'prediction': prediction_label}\n",
    "    return jsonify(response)\n",
    "\n",
    "if __name__ == '__main__':\n",
    "    app.run(port=5001, debug=True)"
   ]
  },
  {
   "cell_type": "markdown",
   "id": "70752d9c",
   "metadata": {},
   "source": [
    "This script creates a web server that listens for POST requests at /predict. It expects JSON data with a 'features' key containing a list of four numbers. It returns a JSON response with a 'prediction' key containing the species of iris predicted by the model.\n",
    "\n",
    "To test this, you can use curl or a tool like Postman to send a POST request to localhost:5000/predict with the following data:"
   ]
  },
  {
   "cell_type": "markdown",
   "id": "614624fa",
   "metadata": {},
   "source": [
    "json\n",
    "{\n",
    "    \"features\": [5.1, 3.5, 1.4, 0.2]\n",
    "}"
   ]
  },
  {
   "cell_type": "markdown",
   "id": "b1784f27",
   "metadata": {},
   "source": [
    "The server should respond with:"
   ]
  },
  {
   "cell_type": "markdown",
   "id": "0a89746b",
   "metadata": {},
   "source": [
    "json\n",
    "{\n",
    "    \"prediction\": \"setosa\"\n",
    "}"
   ]
  },
  {
   "cell_type": "markdown",
   "id": "f9490d51",
   "metadata": {},
   "source": [
    "Please note that this is a simplified example. In a real-world scenario, you would want to include error checking, logging, possibly a database, and more."
   ]
  },
  {
   "cell_type": "markdown",
   "id": "7d09bb2a",
   "metadata": {},
   "source": [
    "The above error can occur when the Flask application is run inside an interactive Python environment such as Jupyter Notebook or an IPython shell. Flask uses a server that isn't designed to be run in such environments.\n",
    "To resolve this issue, you should run your Flask application in a regular Python environment. You can do this by saving your Flask application code in a .py file and then running this file directly using Python from the command line.\n",
    "Here's an example of how you can do this:\n",
    "1. Save your Flask application code in a file, for example app.py.\n",
    "2. Open a command prompt or terminal.\n",
    "3. Navigate to the directory where you saved app.py using the cd command. For example, if you saved app.py in a folder called project on your desktop, you would use the command cd Desktop/project.\n",
    "4. Run the Flask application by typing python app.py in the command prompt or terminal and pressing enter.\n",
    "This should start your Flask application and you should see output similar to before, but without the SystemExit: 1 error."
   ]
  }
 ],
 "metadata": {
  "kernelspec": {
   "display_name": "Python 3 (ipykernel)",
   "language": "python",
   "name": "python3"
  },
  "language_info": {
   "codemirror_mode": {
    "name": "ipython",
    "version": 3
   },
   "file_extension": ".py",
   "mimetype": "text/x-python",
   "name": "python",
   "nbconvert_exporter": "python",
   "pygments_lexer": "ipython3",
   "version": "3.9.13"
  }
 },
 "nbformat": 4,
 "nbformat_minor": 5
}
